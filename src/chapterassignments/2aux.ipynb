{
 "cells": [
  {
   "cell_type": "code",
   "execution_count": 13,
   "metadata": {},
   "outputs": [],
   "source": [
    "import config\n",
    "from binance.client import Client"
   ]
  },
  {
   "cell_type": "code",
   "execution_count": 20,
   "metadata": {},
   "outputs": [
    {
     "data": {
      "text/plain": "['BTCUSDT', 'ETHUSDT', 'BCHUSDT', 'XRPUSDT', 'EOSUSDT']"
     },
     "execution_count": 20,
     "metadata": {},
     "output_type": "execute_result"
    }
   ],
   "source": [
    "# get futures symbols\n",
    "# https://stackoverflow.com/questions/65237367/how-to-place-a-futures-market-order-using-python-binance-apierrorcode-1111\n",
    "\n",
    "client = Client(config.API_KEY, config.API_SECRET)\n",
    "\n",
    "info = client.futures_exchange_info() # request info on all futures symbols\n",
    "\n",
    "[s['symbol'] for s in info['symbols']][0:5] # show 5 first  symbols\n"
   ]
  },
  {
   "cell_type": "code",
   "execution_count": 28,
   "metadata": {},
   "outputs": [],
   "source": [
    "# Get trades\n",
    "\n",
    "#  https://binance-docs.github.io/apidocs/spot/en/#old-trade-lookup\n",
    "\n",
    "# Get compressed, aggregate trades. Trades that fill at the time, from the same order, \n",
    "# with the same price will have the quantity aggregated.\n",
    "\n",
    "# [\n",
    "#   {\n",
    "#     \"a\": 26129,         // Aggregate tradeId\n",
    "#     \"p\": \"0.01633102\",  // Price\n",
    "#     \"q\": \"4.70443515\",  // Quantity\n",
    "#     \"f\": 27781,         // First tradeId\n",
    "#     \"l\": 27781,         // Last tradeId\n",
    "#     \"T\": 1498793709153, // Timestamp\n",
    "#     \"m\": true,          // Was the buyer the maker?\n",
    "#     \"M\": true           // Was the trade the best price match?\n",
    "#   }\n",
    "# ]\n",
    "\n",
    "agg_trades = client.aggregate_trade_iter(symbol='ETHBTC', start_str='1 month ago UTC')\n",
    "\n",
    "trades = [trade for trade in agg_trades]\n",
    "\n",
    "print(f\"Len af trades list: {len(trades)}\") # More than the 500 max for the \"easy\" APIs\n",
    "\n",
    "trades[0:1]  # show the first entry\n"
   ]
  },
  {
   "cell_type": "code",
   "execution_count": null,
   "metadata": {},
   "outputs": [],
   "source": []
  }
 ],
 "metadata": {
  "kernelspec": {
   "display_name": "Python 3.9.0 64-bit",
   "name": "python390jvsc74a57bd031f2aee4e71d21fbe5cf8b01ff0e069b9275f58929596ceb00d14d90e3e16cd6"
  },
  "language_info": {
   "codemirror_mode": {
    "name": "ipython",
    "version": 3
   },
   "file_extension": ".py",
   "mimetype": "text/x-python",
   "name": "python",
   "nbconvert_exporter": "python",
   "pygments_lexer": "ipython3",
   "version": "3.9.0"
  },
  "metadata": {
   "interpreter": {
    "hash": "31f2aee4e71d21fbe5cf8b01ff0e069b9275f58929596ceb00d14d90e3e16cd6"
   }
  },
  "orig_nbformat": 2
 },
 "nbformat": 4,
 "nbformat_minor": 2
}